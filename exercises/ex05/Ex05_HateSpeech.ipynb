{
 "cells": [
  {
   "cell_type": "markdown",
   "metadata": {
    "colab_type": "text",
    "id": "hJAumQyI45Cg"
   },
   "source": [
    "# Social Computing/Social Gaming - Summer 2021\n",
    "# Exercise Sheet 5 - Hate Speech\n",
    "Online hate speech is a large scale phenomenon that gained more and more traction in modern society in recent years. Violence attributed to online hate speech has increased worldwide. The same technology that allows social media to galvanize activist movements and NGOs can be used by hate/crime groups seeking to organize and recruit. It also allows conspiration theorists to reach audiences far broader than their core community. It is time – now more than ever –  to put systems in place that make sure social media is not used as a tool to conduct criminal activities. Fortunately, modern technology allows us to do just that.\n",
    "\n",
    "In this exercise sheet, we will attempt to accurately and automatically detect two instances of hate speech in Twitter: sexism and racism. The first step in this process will be to prepare the data before it is fed to the model. We do this with the help of the Universal Sentence Encoder, which is explained in more detail later. Additionally, we also need to encode the labels and split the data.\n",
    "\n",
    "We then take two different approaches in classifying the data. In other words, we will create, train, evaluate and compare two models. One of them is purely based on text (the Base Model) and the other also takes the social context of the users into account (the Social Model)."
   ]
  },
  {
   "cell_type": "markdown",
   "metadata": {
    "colab_type": "text",
    "id": "3oiBPS0r45Co"
   },
   "source": [
    "## Why Twitter?\n",
    "Hate crimes are communicative acts, often provoked by events that incite retribution in a targeted group. The continued growth of online social networks and micro-blogging Web services, such as Twitter, enable an extensive and near real-time data source through which the analysis of hateful and antagonistic responses to “trigger” events can be undertaken. Such data affords researchers with the possibility to measure the online social mood and emotion following large-scale, disruptive, and emotive events. Twitter is a defensible and logical source of data for such analysis given that users of social media are more likely to express emotional content due to deindividuation (anonymity, lack of self-awareness in groups, disinhibition) [1]."
   ]
  },
  {
   "cell_type": "markdown",
   "metadata": {
    "colab_type": "text",
    "id": "UhxfaKOZfEBN"
   },
   "source": [
    "## Task 5.0: The Data\n",
    "For this, we have picked the dataset of Waseem and Hovy [2], in a slightly modified version. The collection originally contained 16,914 labeled tweets, however some of them are not accessible via Twitter API anymore. As a consequence, the dataset now contains 16,849 tweets divided in the following categories: 3,378 *sexism*, 1,970 *racism* and 11,501 *neither*."
   ]
  },
  {
   "cell_type": "code",
   "execution_count": null,
   "metadata": {
    "colab": {},
    "colab_type": "code",
    "collapsed": true,
    "id": "Bnz1j9RsBjiu"
   },
   "outputs": [],
   "source": [
    "import pandas as pd\n",
    "import numpy as np"
   ]
  },
  {
   "cell_type": "code",
   "execution_count": null,
   "metadata": {
    "colab": {},
    "colab_type": "code",
    "collapsed": true,
    "id": "6LnDiJ1UnYs9"
   },
   "outputs": [],
   "source": [
    "# Reads the data set from a .csv file\n",
    "waseem_hovy = pd.read_csv('tweets.csv')\n",
    "waseem_hovy = waseem_hovy.astype(str)\n",
    "\n",
    "# This drop operation is necessary because of an inconsistency in the dataset\n",
    "waseem_hovy = waseem_hovy.drop([3343, 3344])\n",
    "waseem_hovy = waseem_hovy[['text', 'label']]\n",
    "\n",
    "# We need to do a unique and precise reordering to match with graph information later on\n",
    "unique_tweets, indices = np.unique(waseem_hovy['text'].to_numpy(), return_index=True)\n",
    "ordered_labels = waseem_hovy['label'].to_numpy()[indices]\n",
    "waseem_hovy = pd.DataFrame(np.stack((unique_tweets, ordered_labels), axis=1), columns=['text', 'label'])"
   ]
  },
  {
   "cell_type": "code",
   "execution_count": null,
   "metadata": {
    "collapsed": true
   },
   "outputs": [],
   "source": [
    "# See the summary of the dataset's content\n",
    "\n",
    "print(\"TOTAL TWEETS: {}, RACIST: {}, SEXIST: {}, NEITHER: {}\".\\\n",
    "      format(len(waseem_hovy), len(waseem_hovy[waseem_hovy[\"label\"] == 'racism']), len(waseem_hovy[waseem_hovy[\"label\"] == 'sexism']), len(waseem_hovy[waseem_hovy['label'] == 'none'])))"
   ]
  },
  {
   "cell_type": "markdown",
   "metadata": {
    "colab_type": "text",
    "id": "PgCD_Y9o45Cu"
   },
   "source": [
    "## Task 5.1: Preprocessing "
   ]
  },
  {
   "cell_type": "markdown",
   "metadata": {
    "colab_type": "text",
    "id": "0Xta8UAMEe0E"
   },
   "source": [
    "### a) Encode the labels\n",
    "In order for [Keras](https://keras.io/about/) [3] to work with the labels, they need to have a specific format. For every tweet, we need a 3-dimensional vector where the assigned category is marked by `1` for that index and the rest of the vector is marked with `0`. This kind of representation is called One Hot Encoding.  \n",
    "\n",
    "Map the labels from the `label_mapping = ['sexism' 'none' 'racism']` to a 3-dimensional vector.\n",
    "\n",
    "**Example**: If a tweet is racist, the vector will look like this: `[0, 0, 1]`."
   ]
  },
  {
   "cell_type": "code",
   "execution_count": null,
   "metadata": {
    "colab": {},
    "colab_type": "code",
    "collapsed": true,
    "id": "P849Lj_K520h"
   },
   "outputs": [],
   "source": [
    "from sklearn.preprocessing import LabelBinarizer"
   ]
  },
  {
   "cell_type": "code",
   "execution_count": null,
   "metadata": {
    "colab": {},
    "colab_type": "code",
    "collapsed": true,
    "id": "I4VAbuqeEXok"
   },
   "outputs": [],
   "source": [
    "# Extract labels from dataset\n",
    "\n",
    "labels = np.array(waseem_hovy[\"label\"].tolist())\n",
    "\n",
    "# TODO: Encode labels as binary One Hot vectors\n",
    "# Hint: First map the labels to integer than binarize them\n",
    "\n",
    "\n",
    "# Shows the actual shape of the labels\n",
    "print(labels.shape)\n",
    "print(label_mapping)"
   ]
  },
  {
   "cell_type": "markdown",
   "metadata": {},
   "source": [
    "### b) Universal Sentence Encoder\n",
    "Google's Universal Sentence Encoder ([USE](https://tfhub.dev/google/universal-sentence-encoder/4) [4]) is a convenient way to map any type of sentence to a 512-dimensional vector. In these 512-dimensional vectors semantic meaning is encoded."
   ]
  },
  {
   "cell_type": "code",
   "execution_count": null,
   "metadata": {
    "collapsed": true
   },
   "outputs": [],
   "source": [
    "import tensorflow_hub as hub\n",
    "\n",
    "# Run this code block only once as the download will take some time and embedding is very memory expensive!\n",
    "embed = hub.load(\"https://tfhub.dev/google/universal-sentence-encoder/4\")"
   ]
  },
  {
   "cell_type": "markdown",
   "metadata": {},
   "source": [
    "In this task you are suppossed to get a feeling for this type of embedding. Find a pair of sentences that are similar in their meaning but not syntactically. After that, think of two semantically very different sentences. \n",
    "Obtain the values for them and compare them."
   ]
  },
  {
   "cell_type": "markdown",
   "metadata": {},
   "source": [
    "**TODO: Write your observations here**"
   ]
  },
  {
   "cell_type": "code",
   "execution_count": null,
   "metadata": {
    "collapsed": true
   },
   "outputs": [],
   "source": [
    "# Try out USE here\n",
    "\n"
   ]
  },
  {
   "cell_type": "code",
   "execution_count": null,
   "metadata": {
    "collapsed": true
   },
   "outputs": [],
   "source": [
    "# TODO: Now encode our dataset's tweets\n",
    "\n"
   ]
  },
  {
   "cell_type": "markdown",
   "metadata": {},
   "source": [
    "## Task 5.2: Base Model"
   ]
  },
  {
   "cell_type": "markdown",
   "metadata": {},
   "source": [
    "### a) Base Model creation\n",
    "In this code we create our base model and train it afterwards using the Keras library. We use a simple Neural Network to build this model. You can read about Neural Networks here in case you are not familiar with them.\n",
    "You can get a basic intuition for Neural Networks [here](https://medium.com/@shaistha24/basic-concepts-you-should-know-before-starting-with-the-neural-networks-nn-3-6db79028e56d) [5]. \n",
    "\n",
    "For the base model we have our 512 dimensional input layer. Then we have a fully connected layer with 100 nodes and with a dropout rate of 0.5 is added. For now, you do not need to know what dropout is. After the dropout, another fully connected layer with 50 nodes is added and we once again add a 0.5 dropout rate.\n",
    "Our output layer has 3 nodes: One for \"sexism\", \"none\" and \"racism\". The computed values for these last 3 nodes correspond to the probability of belonging to either one of our categories."
   ]
  },
  {
   "attachments": {
    "base_model.png": {
     "image/png": "[encoded data removed]"
    }
   },
   "cell_type": "markdown",
   "metadata": {},
   "source": [
    "![base_model.png](attachment:base_model.png)"
   ]
  },
  {
   "cell_type": "markdown",
   "metadata": {},
   "source": [
    "![title](img/base_model.png)"
   ]
  },
  {
   "cell_type": "code",
   "execution_count": null,
   "metadata": {
    "collapsed": true
   },
   "outputs": [],
   "source": [
    "from keras import layers\n",
    "from keras.models import Model\n",
    "from keras import backend as K\n",
    "import tensorflow as tf"
   ]
  },
  {
   "cell_type": "code",
   "execution_count": null,
   "metadata": {
    "collapsed": true
   },
   "outputs": [],
   "source": [
    "BATCH_SIZE = 32"
   ]
  },
  {
   "cell_type": "code",
   "execution_count": null,
   "metadata": {
    "collapsed": true
   },
   "outputs": [],
   "source": [
    "ENCODING_DIM = 512\n",
    "\n",
    "text = layers.Input(shape=(ENCODING_DIM, ))\n",
    "\n",
    "x1 = layers.Dense(100, activation='relu')(text)\n",
    "x1 = layers.Dropout(0.5)(x1)\n",
    "\n",
    "# TODO: The 50 nodes layer with 0.5 dropout is missing. Add this layer between the 100 layer and the output layer\n",
    "\n",
    "\n",
    "output = layers.Dense(3, activation=\"softmax\") (x2)\n",
    "\n",
    "base_model = Model(inputs=[text], outputs=output)"
   ]
  },
  {
   "cell_type": "code",
   "execution_count": null,
   "metadata": {
    "collapsed": true
   },
   "outputs": [],
   "source": [
    "# Compiles the model defining loss, accuracy metric and optimizer\n",
    "\n",
    "# Check the internet to unterstand what impact the learning rate (lr) has!\n",
    "optimizer = tf.keras.optimizers.Adam(lr=0.00005)\n",
    "\n",
    "base_model.compile(loss='categorical_crossentropy',\n",
    "              optimizer=optimizer,\n",
    "              metrics=['categorical_accuracy'])\n",
    "base_model.summary()"
   ]
  },
  {
   "cell_type": "markdown",
   "metadata": {
    "colab_type": "text",
    "id": "3y-JP2SL45Cy"
   },
   "source": [
    "### b) Train-Test split for Base Model\n",
    "Splitting our labeled data into a train test and validation set is a common practice. \n",
    "* Train set: This set is used to train our model on. The model will try to learn from it.\n",
    "* Validation set: This set is used to choose hyper-parameters. Since creating good models requires to find the right parameters (e.g. what kind of activation function, how many epochs etc.) this set is used to maximize the performance of a model for a fixed choice of parameters.\n",
    "* Test set: This set is used to evaluate our final model on. After the model has been trained and a final decision for hyper parameters has been made, the model will be evaluated on this set only. No more parameters should be changed after that.\n",
    "\n",
    "This approach helps to identify models that actually generalize well and not just perform well because we adapted the parameters to maximize the performance on one particular set.\n",
    "\n",
    "We will use 60% of our dataset to train our model (the train set) and the remaining 20% to evaluate our model (the test set)."
   ]
  },
  {
   "cell_type": "markdown",
   "metadata": {
    "colab_type": "text",
    "id": "PfkUVBhIIZfd"
   },
   "source": [
    "**Hint:** The sklearn library offers a function that could help you out with this task."
   ]
  },
  {
   "cell_type": "code",
   "execution_count": null,
   "metadata": {
    "colab": {},
    "colab_type": "code",
    "collapsed": true,
    "id": "SXW6xZoH45Cz"
   },
   "outputs": [],
   "source": [
    "from sklearn.model_selection import train_test_split\n",
    "\n",
    "# TODO: Split tweets and labels in Train/Test/Validation 60/20/20\n",
    "\n",
    "\n",
    "print(\"Training data shape: {}, Labels shape: {}\".format(X_train.shape, y_train.shape))\n",
    "print(\"Test data shape: {}, Labels shape: {}\".format(X_test.shape, y_test.shape))\n",
    "print(\"Validation data shape: {}, Labels shape: {}\".format(X_val.shape, y_val.shape))"
   ]
  },
  {
   "cell_type": "markdown",
   "metadata": {
    "colab_type": "text",
    "id": "DJZFPf_WwGSO"
   },
   "source": [
    "### c) Train the Base Model\n",
    "\n",
    "**1.** Train the model. You can do so by using the `fit()` function from the Keras library. Call the function with `epochs=20`. Assign the return value from the `fit()` function to the `model_training` variable. It is then used to plot the model's accuracy on the train and validation set at each epoch."
   ]
  },
  {
   "cell_type": "code",
   "execution_count": null,
   "metadata": {
    "colab": {},
    "colab_type": "code",
    "collapsed": true,
    "id": "xAkkNAo2v82l",
    "scrolled": false
   },
   "outputs": [],
   "source": [
    "from matplotlib import pyplot as plt\n",
    "\n",
    "BATCH_SIZE = 32\n",
    "\n",
    "# TODO: Train the model\n",
    "# Hint: When using the fit function, also pass the validation_data as a parameter\n",
    "\n",
    "model_training = # TODO\n",
    "\n",
    "# Print the model's history and plot the loss for each epoch\n",
    "print(model_training.history)\n",
    "plt.plot(model_training.history['loss'])\n",
    "plt.plot(model_training.history['val_loss'])\n",
    "plt.title('model loss')\n",
    "plt.ylabel('loss')\n",
    "plt.xlabel('epochs')\n",
    "plt.legend(['train', 'val'], loc='upper left')\n",
    "plt.show()"
   ]
  },
  {
   "cell_type": "markdown",
   "metadata": {},
   "source": [
    "**2.** After you have looked at the graph, what do you think is an appropriate amount of `epochs`? Briefly explain at which amount of epochs the model seems to be underfitting or overfitting and how this depends on the learning rate?"
   ]
  },
  {
   "cell_type": "markdown",
   "metadata": {
    "colab_type": "text",
    "id": "GR9afmjh57P1"
   },
   "source": [
    "**TODO: Write your observations here**"
   ]
  },
  {
   "cell_type": "markdown",
   "metadata": {
    "colab_type": "text",
    "id": "if8yjwQNwy_y"
   },
   "source": [
    "### d) Evaluate the Base Model\n",
    "\n",
    "The F1 score is a universal measurement of a test's accuracy. It is calculated as the harmonic mean of *precision* and *recall*. \n",
    "\n",
    "- **precision** refers to the number of true positives divided by the number of all positives\n",
    "- **recall** refers to the number of true positives divided by the number of relevant elements  \n",
    "\n",
    "\n",
    "$$F_{1} = \\frac{2}{recall^{-1} + precision^{-1}} = \\frac{tp}{tp+\\frac{1}{2}(fp+fn)}$$  \n",
    "\n",
    "where\n",
    "*   tp = true positives\n",
    "*   fp = false positives\n",
    "*   fn = false negatives  \n",
    "\n",
    "**1.** Why would we prefer the F1 Score over only the precision?\n",
    "\n",
    "**2.** Evaluate the text model with an F1 score."
   ]
  },
  {
   "cell_type": "markdown",
   "metadata": {},
   "source": [
    "**TODO 1: Write your explanation here**"
   ]
  },
  {
   "cell_type": "code",
   "execution_count": null,
   "metadata": {
    "colab": {},
    "colab_type": "code",
    "collapsed": true,
    "id": "Q4OoPj1zw4kQ"
   },
   "outputs": [],
   "source": [
    "from src.evaluation import f1_score_overall"
   ]
  },
  {
   "cell_type": "code",
   "execution_count": null,
   "metadata": {
    "colab": {},
    "colab_type": "code",
    "collapsed": true,
    "id": "dQkYnnTNw4au"
   },
   "outputs": [],
   "source": [
    "# TODO 2: Evaluate text model\n",
    "# Hint: You can lookup the evaluation.py in the src folder for documentation\n",
    "\n"
   ]
  },
  {
   "cell_type": "markdown",
   "metadata": {
    "colab_type": "text",
    "id": "xvegXhlxuUCN"
   },
   "source": [
    "## Task 5.3: Preprocessing for Social Model\n",
    "Now that we have evaluated our base model we can try to enhance it by using some sort of a social context. To do so, we are using our base model's prediction to compute an average hate score for each of the followers of an author. This means that for each author we take all his follower's tweets and predict the label. We then take the average of each prediction which results in our average hate score.\n",
    "\n",
    "For each tweet we then not only feed in the tweet itself, but also the hate score."
   ]
  },
  {
   "cell_type": "markdown",
   "metadata": {
    "colab_type": "text",
    "id": "D4kmhJJT9Kpz"
   },
   "source": [
    "### Load adjacency matrix for users"
   ]
  },
  {
   "cell_type": "markdown",
   "metadata": {
    "colab_type": "text",
    "id": "w0YaL7CZJqpM"
   },
   "source": [
    "In order to create our social model, we first need to load the adjacency matrix. This matrix represents the follower network between all users that have written the 16849 tweets (crawled by Linda Jahn [6]). You can check the `extend_data.ipynb` file to find out how the adjacency matrix was created.\n",
    "\n",
    "The 16849 tweets were written by 2031 distinct users. This results in a 2031x2031 matrix."
   ]
  },
  {
   "cell_type": "code",
   "execution_count": null,
   "metadata": {
    "colab": {},
    "colab_type": "code",
    "collapsed": true,
    "id": "vXvkZYb_JXkg"
   },
   "outputs": [],
   "source": [
    "# Load users adjacency matrix\n",
    "users_adjacency_matrix = np.load(\"pickle_files/users_data/users_adjacency_matrix.npy\")"
   ]
  },
  {
   "cell_type": "markdown",
   "metadata": {
    "colab_type": "text",
    "id": "tHICY__D45Cp"
   },
   "source": [
    "### a) Graph visualization & manipulation\n",
    "Now we are going to plot the previously loaded adjacency matrix. Since we are going to feed the matrix to the Neural Network later, and because the user network is just a tiny subset of the whole Twitter network it is important to check if the network contains any useful information.\n",
    "\n",
    "\n",
    "**1.** Plot the graph corresponding to the given adjacency matrix.  \n",
    "**Note:** For better visualization, the nodes are color-coded based on their degree."
   ]
  },
  {
   "cell_type": "code",
   "execution_count": null,
   "metadata": {
    "colab": {},
    "colab_type": "code",
    "collapsed": true,
    "id": "pfuRf30ommf7"
   },
   "outputs": [],
   "source": [
    "import numpy as np\n",
    "import networkx as nx\n",
    "from matplotlib import pyplot as plt"
   ]
  },
  {
   "cell_type": "code",
   "execution_count": null,
   "metadata": {
    "colab": {},
    "colab_type": "code",
    "collapsed": true,
    "id": "rSv96Rqt45Cq"
   },
   "outputs": [],
   "source": [
    "def show_graph(users_adjacency_matrix):\n",
    "    \n",
    "    # TODO 1:\n",
    "    \n",
    "    \n",
    "    print(\"Total number of nodes:\", nx.number_of_nodes(graph))\n",
    "    \n",
    "    from matplotlib.pyplot import figure\n",
    "    figure(num=None, figsize=(64, 50), dpi=100)\n",
    "    nx.draw(graph,\n",
    "            node_size=300,\n",
    "            node_color=range(nx.number_of_nodes(graph)),\n",
    "            cmap=plt.cm.Reds,\n",
    "            pos=nx.spring_layout(graph)\n",
    "           )\n",
    "    plt.show()\n",
    "\n",
    "    \n",
    "show_graph(users_adjacency_matrix)"
   ]
  },
  {
   "cell_type": "markdown",
   "metadata": {
    "colab_type": "text",
    "id": "j2DJp3GGkzz3"
   },
   "source": [
    "**2.** Briefly describe the graph. How many communities do you think it depicts? "
   ]
  },
  {
   "cell_type": "markdown",
   "metadata": {
    "colab_type": "text",
    "id": "xEIoD_U6Tr2u"
   },
   "source": [
    "**TODO 2: Write your observations here**"
   ]
  },
  {
   "cell_type": "markdown",
   "metadata": {
    "colab_type": "text",
    "id": "8F9-nJc8k8JI"
   },
   "source": [
    "**3.** Now let us try to actually calculate the number of communities within this graph. First, get rid of the uninteresting nodes that have zero or very few edges and just inspect the \"core\" graph. Expand on the code that you have written in the exercise above.  \n",
    "**Hint**: You can do this by excluding all nodes with an `nx.eigenvector_centrality()` lower than $10^{-8}$."
   ]
  },
  {
   "cell_type": "code",
   "execution_count": null,
   "metadata": {
    "colab": {},
    "colab_type": "code",
    "collapsed": true,
    "id": "sP3rrJEok-2z"
   },
   "outputs": [],
   "source": [
    "def show_graph_core(users_adjacency_matrix):\n",
    "    \n",
    "    # TODO 3:\n",
    "    \n",
    "    \n",
    "    print(\"Total number of significant nodes:\", nx.number_of_nodes(graph))\n",
    "    \n",
    "    from matplotlib.pyplot import figure\n",
    "    figure(num=None, figsize=(64, 50), dpi=100)\n",
    "    nx.draw(graph,\n",
    "            node_size=1000,\n",
    "            node_color=range(nx.number_of_nodes(graph)),\n",
    "            cmap=plt.cm.Reds,\n",
    "            pos=nx.spring_layout(graph)\n",
    "           )\n",
    "    plt.show()\n",
    "\n",
    "    \n",
    "show_graph_core(users_adjacency_matrix)"
   ]
  },
  {
   "cell_type": "markdown",
   "metadata": {
    "colab_type": "text",
    "id": "yxIMjFoImCFW"
   },
   "source": [
    "**4.** Do you think the social context could further improve our hate speech detection model? Find at least 2 pros and 2 cons."
   ]
  },
  {
   "cell_type": "markdown",
   "metadata": {},
   "source": [
    "**TODO 4: Write your observations here**  "
   ]
  },
  {
   "cell_type": "markdown",
   "metadata": {},
   "source": [
    "### b) Employment of our Base Model to predict the hatefulness of an author's followers\n",
    "\n",
    "Now that we have a trained model, we can use it to predict the hatefulness for any tweet. Therefore, we can use it to predict an average hate score for each follower of an author. This means that we predict the label for each tweet of an author's follower and then compute an average across all of these predictions. \n",
    "\n",
    "**1.** Predict all encoded tweets with the Base Model"
   ]
  },
  {
   "cell_type": "code",
   "execution_count": null,
   "metadata": {
    "collapsed": true
   },
   "outputs": [],
   "source": [
    "# TODO 1:\n",
    "\n"
   ]
  },
  {
   "cell_type": "markdown",
   "metadata": {},
   "source": [
    "In the following code cell we load the authorship numpy array. It contains the author ID of each tweet."
   ]
  },
  {
   "cell_type": "code",
   "execution_count": null,
   "metadata": {
    "colab": {},
    "colab_type": "code",
    "collapsed": true,
    "id": "3myAb7_jIZKX"
   },
   "outputs": [],
   "source": [
    "# Loads authorship index\n",
    "authors_idx = np.load(\"pickle_files/users_data/authorship.npy\")\n",
    "authors_idx = np.reshape(authors_idx, newshape=(-1, 1))"
   ]
  },
  {
   "cell_type": "markdown",
   "metadata": {},
   "source": [
    "**2.** Now for every tweet of our dataset we need to compute its authors hate score. Therefore:\n",
    " * First define a function `get_all_followers` that return all followers for a given user.\n",
    " * Then create a list `his_followers` that contains all followers for each user.\n",
    " * Now assign the hate predictions for each of all the followers tweets.\n",
    " * Finally in `user_avg_score` compute the hate score for each user by averaging out all his followers' tweets' hate scores. If there are no followers' tweets, assign our pre-computed average values `default_hate_score`."
   ]
  },
  {
   "cell_type": "code",
   "execution_count": null,
   "metadata": {
    "collapsed": true
   },
   "outputs": [],
   "source": [
    "default_hate_score = np.array([0.19446494, 0.75084399, 0.0546911])\n",
    "\n",
    "# TODO 2:\n",
    "\n"
   ]
  },
  {
   "cell_type": "code",
   "execution_count": null,
   "metadata": {
    "collapsed": true
   },
   "outputs": [],
   "source": [
    "# Put authors' hate scores in the order of the tweets\n",
    "tweets_author_hate_score = list((map(lambda x: user_avg_score[int(x)], authors_idx))) \n",
    "\n",
    "tweets_author_hate_score = np.array(tweets_author_hate_score)"
   ]
  },
  {
   "cell_type": "markdown",
   "metadata": {},
   "source": [
    "## Task 5.4: Social Model\n",
    "\n",
    "Now that we have our social context prepared, we can build and train our Social Model using that information."
   ]
  },
  {
   "cell_type": "markdown",
   "metadata": {},
   "source": [
    "### a) Social Model creation\n",
    "\n",
    "With our social context we have 2 separate networks: \n",
    "* Our text network that processes the tweet (the same as the base model from before)\n",
    "* Our hate score network that basically decides how important the average hate score for the classification is\n",
    "\n",
    "Our 2 separate networks are concatenated and one last hidden layer with 100 nodes is added. "
   ]
  },
  {
   "attachments": {
    "enhanced_model.png": {
     "image/png": "[encoded data removed]"
    }
   },
   "cell_type": "markdown",
   "metadata": {},
   "source": [
    "![enhanced_model.png](attachment:enhanced_model.png)"
   ]
  },
  {
   "cell_type": "markdown",
   "metadata": {},
   "source": [
    "Now define our new neural network `social_model` according to the graphic above. You can lookup most of the syntax in exercise ***5.2 a)***."
   ]
  },
  {
   "cell_type": "code",
   "execution_count": null,
   "metadata": {
    "collapsed": true
   },
   "outputs": [],
   "source": [
    "# TODO:\n",
    "\n"
   ]
  },
  {
   "cell_type": "code",
   "execution_count": null,
   "metadata": {
    "collapsed": true,
    "scrolled": false
   },
   "outputs": [],
   "source": [
    "# Compiles the model defining loss, accuracy metric and optimizer\n",
    "\n",
    "optimizer = tf.keras.optimizers.Adam(lr=0.00005)\n",
    "\n",
    "social_model.compile(loss='categorical_crossentropy',\n",
    "              optimizer=optimizer,\n",
    "              metrics=['categorical_accuracy'])\n",
    "social_model.summary()"
   ]
  },
  {
   "cell_type": "markdown",
   "metadata": {},
   "source": [
    "### b) Train-Test split for Social Model\n",
    "Now split the data in Train/Val/Test 60/20/20 as seen in the Base Model. This time you have to create an additional set for the Hate Score."
   ]
  },
  {
   "cell_type": "code",
   "execution_count": null,
   "metadata": {
    "collapsed": true
   },
   "outputs": [],
   "source": [
    "# TODO:\n",
    "\n",
    "\n",
    "print(\"Training data shape: {}, Labels shape: {}, Hate Score shape: {}\".format(X_train.shape, y_train.shape, a_train.shape))\n",
    "print(\"Test data shape: {}, Labels shape: {}, Hate Score shape: {}\".format(X_test.shape, y_test.shape, a_test.shape))\n",
    "print(\"Validation data shape: {}, Labels shape: {}, Hate Score shape: {}\".format(X_val.shape, y_val.shape, a_val.shape))"
   ]
  },
  {
   "cell_type": "markdown",
   "metadata": {},
   "source": [
    "### c) Train and Evaluate the Enhanced Model\n",
    "Once again, train and evaluate the model with a F1 Score. Use 20 `epochs` and `batch_size` of 32."
   ]
  },
  {
   "cell_type": "code",
   "execution_count": null,
   "metadata": {
    "collapsed": true,
    "scrolled": false
   },
   "outputs": [],
   "source": [
    "from matplotlib import pyplot as plt\n",
    "\n",
    "# TODO: Train the model\n",
    "\n",
    "model_training = # TODO\n",
    "\n",
    "# Print the model's history and plot the loss for each epoch\n",
    "print(model_training.history)\n",
    "plt.plot(model_training.history['loss'])\n",
    "plt.plot(model_training.history['val_loss'])\n",
    "plt.title('model loss')\n",
    "plt.ylabel('loss')\n",
    "plt.xlabel('epochs')\n",
    "plt.legend(['train', 'val'], loc='upper left')\n",
    "plt.show()"
   ]
  },
  {
   "cell_type": "code",
   "execution_count": null,
   "metadata": {
    "collapsed": true
   },
   "outputs": [],
   "source": [
    "from src.evaluation import f1_score_overall\n",
    "\n",
    "# TODO: Evaluate the model with a F1 Score\n",
    "\n"
   ]
  },
  {
   "cell_type": "markdown",
   "metadata": {},
   "source": [
    "## Task 5.5: Discussion and comparison\n",
    "\n",
    "* Compare the performances of our two models in your own words\n",
    "\n",
    "* Why do you think it improved? \n",
    "\n",
    "* Can you think of any other social context to further improve our model?"
   ]
  },
  {
   "cell_type": "markdown",
   "metadata": {},
   "source": [
    "**TODO: Write your thoughts here**"
   ]
  },
  {
   "cell_type": "markdown",
   "metadata": {},
   "source": [
    "## References\n",
    "\n",
    "[1] Festinger, L., Pepitone, A. and Newcomb, T. (1952) *Some Consequences of De-Individuation in a Group.* Journal of Abnormal and Social Psychology, 47, 382-389.\n",
    "<br>[2] Waseem, Z., & Hovy, D. (2016). *Hateful symbols or hateful people? Predictive features for hate speech detection on Twitter.* In Proceedings of the naacl student research workshop (pp. 88-93).\n",
    "<br>[3] https://keras.io/about/\n",
    "<br>[4] https://tfhub.dev/google/universal-sentence-encoder/4\n",
    "<br>[5] https://medium.com/@shaistha24/basic-concepts-you-should-know-before-starting-with-the-neural-networks-nn-3-6db79028e56d\n",
    "<br>[6] Jahn, L. (2020). *Leveraging Social Network Data for Hate Speech Detection.* Master\n",
    "Thesis, Technical University of Munich, Department of Informatics."
   ]
  }
 ],
 "metadata": {
  "colab": {
   "collapsed_sections": [],
   "name": "Ex7_HateSpeech_Solution.ipynb",
   "provenance": []
  },
  "kernelspec": {
   "display_name": "Python 3",
   "language": "python",
   "name": "python3"
  },
  "language_info": {
   "codemirror_mode": {
    "name": "ipython",
    "version": 2
   },
   "file_extension": ".py",
   "mimetype": "text/x-python",
   "name": "python",
   "nbconvert_exporter": "python",
   "pygments_lexer": "ipython2",
   "version": "2.7.14"
  }
 },
 "nbformat": 4,
 "nbformat_minor": 1
}
